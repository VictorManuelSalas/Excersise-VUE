{
 "cells": [
  {
   "attachments": {},
   "cell_type": "markdown",
   "metadata": {},
   "source": [
    "# Apuntes de VUE3\n",
    "\n",
    "### Comandos iniciales\n",
    "\n",
    "    1.- Comando para crear una nueva app: vue create nameApp\n",
    "    2.- Comanddo para ejecutar el proyecto en el navegador: npm run serve\n",
    "    \n",
    "### Como crear una nueva App \n",
    "Estos son los pasos a seguir en la elaboracion de una nueva aplicacion en Vue3:\n",
    "\n",
    "    1.- Ejecutar en consola -> vue create nameApp\n",
    "    2.- Pedira elejir como queremos instalar la app, en este caso se selecciona el -> Manually select features\n",
    "    3.- Despues se pedira seleccionar las caracteristicas que queremos instalar en este proyecto que son: {Babel, Router and Vuex}\n",
    "    4.- Se pedira elejir donde queremos colocar las caracteristicas, en este caso se escoge -> {In dedicated config files}\n",
    "    5.- Ingresar al archivo con -> cd nameApp\n",
    "    6.- Ejecutar la app -> npm run serve"
   ]
  },
  {
   "attachments": {},
   "cell_type": "markdown",
   "metadata": {},
   "source": [
    "### Qué hace la directiva v-model\n",
    "En Vue.js usamos esta directiva cuando queremos que dos elementos estén enlazados, lo que comúnmente se llama bind bidireccional.\n",
    "\n",
    "En otras palabras, cuando el valor de uno de los elementos cambia, también se ve reflejado ese cambio en el otro elemento.\n",
    "\n",
    "Se suele usar en los formularios para vincular la información que introduce el usuario con los datos del componente. Puedes ver un ejemplo en este sandbox."
   ]
  }
 ],
 "metadata": {
  "language_info": {
   "name": "python"
  },
  "orig_nbformat": 4
 },
 "nbformat": 4,
 "nbformat_minor": 2
}
